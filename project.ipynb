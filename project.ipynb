{
 "cells": [
  {
   "cell_type": "markdown",
   "metadata": {
    "collapsed": false
   },
   "source": [
    "# Text Translation and Sentiment Analysis using Transformers"
   ]
  },
  {
   "cell_type": "markdown",
   "metadata": {
    "collapsed": false
   },
   "source": [
    "## Project Overview:\n",
    "\n",
    "The objective of this project is to analyze the sentiment of movie reviews in three different languages - English, French, and Spanish. We have been given 30 movies, 10 in each language, along with their reviews and synopses in separate CSV files named `movie_reviews_eng.csv`, `movie_reviews_fr.csv`, and `movie_reviews_sp.csv`.\n",
    "\n",
    "- The first step of this project is to convert the French and Spanish reviews and synopses into English. This will allow us to analyze the sentiment of all reviews in the same language. We will be using pre-trained transformers from HuggingFace to achieve this task.\n",
    "\n",
    "- Once the translations are complete, we will create a single dataframe that contains all the movies along with their reviews, synopses, and year of release in all three languages. This dataframe will be used to perform sentiment analysis on the reviews of each movie.\n",
    "\n",
    "- Finally, we will use pretrained transformers from HuggingFace to analyze the sentiment of each review. The sentiment analysis results will be added to the dataframe. The final dataframe will have 30 rows\n",
    "\n",
    "\n",
    "The output of the project will be a CSV file with a header row that includes column names such as **Title**, **Year**, **Synopsis**, **Review**, **Review Sentiment**, and **Original Language**. The **Original Language** column will indicate the language of the review and synopsis (*en/fr/sp*) before translation. The dataframe will consist of 30 rows, with each row corresponding to a movie."
   ]
  },
  {
   "cell_type": "code",
   "execution_count": 1,
   "metadata": {
    "collapsed": false
   },
   "outputs": [
    {
     "name": "stderr",
     "output_type": "stream",
     "text": [
      "/Users/thomasnguyen/opt/anaconda3/envs/project3/lib/python3.8/site-packages/tqdm/auto.py:21: TqdmWarning: IProgress not found. Please update jupyter and ipywidgets. See https://ipywidgets.readthedocs.io/en/stable/user_install.html\n",
      "  from .autonotebook import tqdm as notebook_tqdm\n"
     ]
    }
   ],
   "source": [
    "# imports\n",
    "import pandas as pd\n",
    "from transformers import MarianMTModel, MarianTokenizer\n",
    "from transformers import pipeline"
   ]
  },
  {
   "cell_type": "markdown",
   "metadata": {
    "collapsed": false
   },
   "source": [
    "### Get data from `.csv` files and then preprocess data"
   ]
  },
  {
   "cell_type": "code",
   "execution_count": 2,
   "metadata": {
    "collapsed": false
   },
   "outputs": [],
   "source": [
    "# use the `pd.read_csv()` function to read the movie_review_*.csv files into 3 separate pandas dataframes\n",
    "\n",
    "# Note: All the dataframes would have different column names. For testing purposes\n",
    "# you should have the following column names/headers -> [Title, Year, Synopsis, Review]\n",
    "\n",
    "def preprocess_data() -> pd.DataFrame:\n",
    "    \"\"\"\n",
    "    Reads movie data from .csv files, map column names, add the \"Original Language\" column,\n",
    "    and finally concatenate in one resultant dataframe called \"df\".\n",
    "    \"\"\"\n",
    "\n",
    "    columns = [\n",
    "        'Title',\n",
    "        'Year',\n",
    "        'Synopsis',\n",
    "        'Review'\n",
    "    ]\n",
    "\n",
    "    df_eng = pd.read_csv(\"data/movie_reviews_eng.csv\")\n",
    "    df_eng.columns = columns\n",
    "    df_eng['Original Language'] = ['English' for _ in range(len(df_eng['Review']))]\n",
    "\n",
    "    df_fr = pd.read_csv(\"data/movie_reviews_fr.csv\")\n",
    "    df_fr.columns = columns\n",
    "    df_fr['Original Language'] = ['French' for _ in range(len(df_fr['Review']))]\n",
    "\n",
    "    df_sp = pd.read_csv(\"data/movie_reviews_sp.csv\")\n",
    "    df_sp.columns = columns\n",
    "    df_sp['Original Language'] = ['Spanish' for _ in range(len(df_sp['Review']))]\n",
    "\n",
    "    \n",
    "    concat_pd = pd.concat([df_eng, df_fr, df_sp])\n",
    "    \n",
    "    return concat_pd\n",
    "\n",
    "df = preprocess_data()"
   ]
  },
  {
   "cell_type": "code",
   "execution_count": 3,
   "metadata": {
    "collapsed": false
   },
   "outputs": [
    {
     "data": {
      "text/html": [
       "<div>\n",
       "<style scoped>\n",
       "    .dataframe tbody tr th:only-of-type {\n",
       "        vertical-align: middle;\n",
       "    }\n",
       "\n",
       "    .dataframe tbody tr th {\n",
       "        vertical-align: top;\n",
       "    }\n",
       "\n",
       "    .dataframe thead th {\n",
       "        text-align: right;\n",
       "    }\n",
       "</style>\n",
       "<table border=\"1\" class=\"dataframe\">\n",
       "  <thead>\n",
       "    <tr style=\"text-align: right;\">\n",
       "      <th></th>\n",
       "      <th>Title</th>\n",
       "      <th>Year</th>\n",
       "      <th>Synopsis</th>\n",
       "      <th>Review</th>\n",
       "      <th>Original Language</th>\n",
       "    </tr>\n",
       "  </thead>\n",
       "  <tbody>\n",
       "    <tr>\n",
       "      <th>4</th>\n",
       "      <td>Amores perros</td>\n",
       "      <td>2000</td>\n",
       "      <td>Tres historias se entrelazan en esta película ...</td>\n",
       "      <td>\"Amores perros es una película intensa y conmo...</td>\n",
       "      <td>Spanish</td>\n",
       "    </tr>\n",
       "    <tr>\n",
       "      <th>5</th>\n",
       "      <td>Águila Roja</td>\n",
       "      <td>(2009-2016)</td>\n",
       "      <td>Esta serie de televisión española sigue las av...</td>\n",
       "      <td>\"Águila Roja es una serie aburrida y poco inte...</td>\n",
       "      <td>Spanish</td>\n",
       "    </tr>\n",
       "    <tr>\n",
       "      <th>7</th>\n",
       "      <td>El Bar</td>\n",
       "      <td>2017</td>\n",
       "      <td>Un grupo de personas quedan atrapadas en un ba...</td>\n",
       "      <td>\"El Bar es una película ridícula y sin sentido...</td>\n",
       "      <td>Spanish</td>\n",
       "    </tr>\n",
       "    <tr>\n",
       "      <th>8</th>\n",
       "      <td>Les Visiteurs en Amérique</td>\n",
       "      <td>2000</td>\n",
       "      <td>Dans cette suite de la comédie française Les V...</td>\n",
       "      <td>\"Le film est une perte de temps totale. Les bl...</td>\n",
       "      <td>French</td>\n",
       "    </tr>\n",
       "    <tr>\n",
       "      <th>7</th>\n",
       "      <td>The Nice Guys</td>\n",
       "      <td>2016</td>\n",
       "      <td>In 1970s Los Angeles, a private eye (Ryan Gosl...</td>\n",
       "      <td>\"The Nice Guys tries too hard to be funny, and...</td>\n",
       "      <td>English</td>\n",
       "    </tr>\n",
       "    <tr>\n",
       "      <th>2</th>\n",
       "      <td>Forrest Gump</td>\n",
       "      <td>1994</td>\n",
       "      <td>Forrest Gump (Tom Hanks) is a simple man with ...</td>\n",
       "      <td>\"Forrest Gump is a heartwarming and inspiratio...</td>\n",
       "      <td>English</td>\n",
       "    </tr>\n",
       "    <tr>\n",
       "      <th>1</th>\n",
       "      <td>Intouchables</td>\n",
       "      <td>2011</td>\n",
       "      <td>Ce film raconte l'histoire de l'amitié improba...</td>\n",
       "      <td>\"Intouchables est un film incroyablement touch...</td>\n",
       "      <td>French</td>\n",
       "    </tr>\n",
       "    <tr>\n",
       "      <th>9</th>\n",
       "      <td>The Island</td>\n",
       "      <td>2005</td>\n",
       "      <td>In a future where people are cloned for organ ...</td>\n",
       "      <td>\"The Island is a bland and forgettable sci-fi ...</td>\n",
       "      <td>English</td>\n",
       "    </tr>\n",
       "    <tr>\n",
       "      <th>5</th>\n",
       "      <td>Le Dîner de Cons</td>\n",
       "      <td>1998</td>\n",
       "      <td>Le film suit l'histoire d'un groupe d'amis ric...</td>\n",
       "      <td>\"Je n'ai pas aimé ce film du tout. Le concept ...</td>\n",
       "      <td>French</td>\n",
       "    </tr>\n",
       "    <tr>\n",
       "      <th>1</th>\n",
       "      <td>The Dark Knight</td>\n",
       "      <td>2008</td>\n",
       "      <td>Batman (Christian Bale) teams up with District...</td>\n",
       "      <td>\"The Dark Knight is a thrilling and intense su...</td>\n",
       "      <td>English</td>\n",
       "    </tr>\n",
       "  </tbody>\n",
       "</table>\n",
       "</div>"
      ],
      "text/plain": [
       "                       Title         Year  \\\n",
       "4              Amores perros         2000   \n",
       "5               Águila Roja   (2009-2016)   \n",
       "7                     El Bar         2017   \n",
       "8  Les Visiteurs en Amérique         2000   \n",
       "7              The Nice Guys         2016   \n",
       "2               Forrest Gump         1994   \n",
       "1               Intouchables         2011   \n",
       "9                 The Island         2005   \n",
       "5           Le Dîner de Cons         1998   \n",
       "1           The Dark Knight          2008   \n",
       "\n",
       "                                            Synopsis  \\\n",
       "4  Tres historias se entrelazan en esta película ...   \n",
       "5  Esta serie de televisión española sigue las av...   \n",
       "7  Un grupo de personas quedan atrapadas en un ba...   \n",
       "8  Dans cette suite de la comédie française Les V...   \n",
       "7  In 1970s Los Angeles, a private eye (Ryan Gosl...   \n",
       "2  Forrest Gump (Tom Hanks) is a simple man with ...   \n",
       "1  Ce film raconte l'histoire de l'amitié improba...   \n",
       "9  In a future where people are cloned for organ ...   \n",
       "5  Le film suit l'histoire d'un groupe d'amis ric...   \n",
       "1  Batman (Christian Bale) teams up with District...   \n",
       "\n",
       "                                              Review Original Language  \n",
       "4  \"Amores perros es una película intensa y conmo...           Spanish  \n",
       "5  \"Águila Roja es una serie aburrida y poco inte...           Spanish  \n",
       "7  \"El Bar es una película ridícula y sin sentido...           Spanish  \n",
       "8  \"Le film est une perte de temps totale. Les bl...            French  \n",
       "7  \"The Nice Guys tries too hard to be funny, and...           English  \n",
       "2  \"Forrest Gump is a heartwarming and inspiratio...           English  \n",
       "1  \"Intouchables est un film incroyablement touch...            French  \n",
       "9  \"The Island is a bland and forgettable sci-fi ...           English  \n",
       "5  \"Je n'ai pas aimé ce film du tout. Le concept ...            French  \n",
       "1  \"The Dark Knight is a thrilling and intense su...           English  "
      ]
     },
     "execution_count": 3,
     "metadata": {},
     "output_type": "execute_result"
    }
   ],
   "source": [
    "df.sample(10)"
   ]
  },
  {
   "cell_type": "markdown",
   "metadata": {
    "collapsed": false
   },
   "source": [
    "### Text translation\n",
    "\n",
    "Translate the **Review** and **Synopsis** column values to English."
   ]
  },
  {
   "cell_type": "code",
   "execution_count": 4,
   "metadata": {
    "collapsed": false
   },
   "outputs": [
    {
     "name": "stderr",
     "output_type": "stream",
     "text": [
      "/Users/thomasnguyen/opt/anaconda3/envs/project3/lib/python3.8/site-packages/transformers/models/marian/tokenization_marian.py:194: UserWarning: Recommended: pip install sacremoses.\n",
      "  warnings.warn(\"Recommended: pip install sacremoses.\")\n"
     ]
    }
   ],
   "source": [
    "# load translation models and tokenizers\n",
    "from transformers import MarianMTModel, MarianTokenizer\n",
    "\n",
    "fr_en_model_name = 'Helsinki-NLP/opus-mt-fr-en'\n",
    "es_en_model_name = 'Helsinki-NLP/opus-mt-es-en'\n",
    "fr_en_model = MarianMTModel.from_pretrained(fr_en_model_name)\n",
    "es_en_model = MarianMTModel.from_pretrained(es_en_model_name)\n",
    "fr_en_tokenizer = MarianTokenizer.from_pretrained(fr_en_model_name)\n",
    "es_en_tokenizer = MarianTokenizer.from_pretrained(es_en_model_name)\n"
   ]
  },
  {
   "cell_type": "code",
   "execution_count": 5,
   "metadata": {},
   "outputs": [],
   "source": [
    "def translate(text: str, model, tokenizer) -> str:\n",
    "    \"\"\"\n",
    "    function to translate a text using a model and tokenizer\n",
    "    \"\"\"\n",
    "    # encode the text using the tokenizer\n",
    "    inputs = tokenizer(text, return_tensors='pt')\n",
    "\n",
    "    # generate the translation using the model\n",
    "    outputs = model.generate(**inputs)\n",
    "\n",
    "    # decode the generated output and return the translated text\n",
    "    decoded = tokenizer.decode(outputs[0], skip_special_tokens=True)\n",
    "    return decoded"
   ]
  },
  {
   "cell_type": "code",
   "execution_count": 6,
   "metadata": {},
   "outputs": [
    {
     "name": "stdout",
     "output_type": "stream",
     "text": [
      "The Incident is a boring and frightless film that fails to create an atmosphere of fear or tension. The performance is mediocre and the plot is predictable and unexciting.\n"
     ]
    }
   ],
   "source": [
    "txt = 'El Incidente es una película aburrida y sin sustos que no logra crear una atmósfera de miedo o tensión. La actuación es mediocre y la trama es predecible y poco emocionante.'\n",
    "\n",
    "print(translate(txt, es_en_model, es_en_tokenizer))"
   ]
  },
  {
   "cell_type": "code",
   "execution_count": 7,
   "metadata": {},
   "outputs": [
    {
     "name": "stdout",
     "output_type": "stream",
     "text": [
      "This film is a complete mess. The characters are of no interest, the plot is confused and the special effects are bad. The film tries to be smart and cool, but fails lamentably. Avoid this film at all costs.\n"
     ]
    }
   ],
   "source": [
    "txt = \"Ce film est un gâchis complet. Les personnages sont sans intérêt, l'intrigue est confuse et les effets spéciaux sont mauvais. Le film essaie d'être intelligent et cool, mais échoue lamentablement. Évitez ce film à tout prix.\"\n",
    "\n",
    "print(translate(txt, fr_en_model, fr_en_tokenizer))"
   ]
  },
  {
   "cell_type": "code",
   "execution_count": 8,
   "metadata": {
    "collapsed": false
   },
   "outputs": [],
   "source": [
    "# filter reviews in French and translate to English\n",
    "fr_reviews = df.loc[df['Original Language'] == 'French', 'Review'].tolist()\n",
    "df.loc[df['Original Language'] == 'French', 'Review'] = [translate(txt, fr_en_model, fr_en_tokenizer) for txt in fr_reviews]\n",
    "\n",
    "# filter synopsis in French and translate to English\n",
    "fr_synopsis = df.loc[df['Original Language'] == 'French', 'Synopsis'].tolist()\n",
    "df.loc[df['Original Language'] == 'French', 'Synopsis'] = [translate(txt, fr_en_model, fr_en_tokenizer) for txt in fr_synopsis]\n",
    "\n",
    "# filter reviews in Spanish and translate to English\n",
    "es_reviews = df.loc[df['Original Language'] == 'Spanish', 'Review'].tolist()\n",
    "df.loc[df['Original Language'] == 'Spanish', 'Review'] = [translate(txt, es_en_model, es_en_tokenizer) for txt in es_reviews]\n",
    "\n",
    "# filter synopsis in Spanish and translate to English\n",
    "es_synopsis = df.loc[df['Original Language'] == 'Spanish', 'Synopsis'].tolist()\n",
    "df.loc[df['Original Language'] == 'Spanish', 'Synopsis'] = [translate(txt, es_en_model, es_en_tokenizer) for txt in es_synopsis]\n"
   ]
  },
  {
   "cell_type": "code",
   "execution_count": 9,
   "metadata": {
    "collapsed": false
   },
   "outputs": [
    {
     "data": {
      "text/html": [
       "<div>\n",
       "<style scoped>\n",
       "    .dataframe tbody tr th:only-of-type {\n",
       "        vertical-align: middle;\n",
       "    }\n",
       "\n",
       "    .dataframe tbody tr th {\n",
       "        vertical-align: top;\n",
       "    }\n",
       "\n",
       "    .dataframe thead th {\n",
       "        text-align: right;\n",
       "    }\n",
       "</style>\n",
       "<table border=\"1\" class=\"dataframe\">\n",
       "  <thead>\n",
       "    <tr style=\"text-align: right;\">\n",
       "      <th></th>\n",
       "      <th>Title</th>\n",
       "      <th>Year</th>\n",
       "      <th>Synopsis</th>\n",
       "      <th>Review</th>\n",
       "      <th>Original Language</th>\n",
       "    </tr>\n",
       "  </thead>\n",
       "  <tbody>\n",
       "    <tr>\n",
       "      <th>3</th>\n",
       "      <td>El Laberinto del Fauno</td>\n",
       "      <td>2006</td>\n",
       "      <td>During the Spanish postwar period, Ofelia (Iva...</td>\n",
       "      <td>\"The Labyrinth of Fauno is a fascinating and e...</td>\n",
       "      <td>Spanish</td>\n",
       "    </tr>\n",
       "    <tr>\n",
       "      <th>0</th>\n",
       "      <td>La La Land</td>\n",
       "      <td>2016</td>\n",
       "      <td>This musical tells the story of a budding actr...</td>\n",
       "      <td>\"The Land is an absolutely beautiful film with...</td>\n",
       "      <td>French</td>\n",
       "    </tr>\n",
       "    <tr>\n",
       "      <th>2</th>\n",
       "      <td>Forrest Gump</td>\n",
       "      <td>1994</td>\n",
       "      <td>Forrest Gump (Tom Hanks) is a simple man with ...</td>\n",
       "      <td>\"Forrest Gump is a heartwarming and inspiratio...</td>\n",
       "      <td>English</td>\n",
       "    </tr>\n",
       "    <tr>\n",
       "      <th>7</th>\n",
       "      <td>El Bar</td>\n",
       "      <td>2017</td>\n",
       "      <td>A group of people are trapped in a bar after M...</td>\n",
       "      <td>\"The Bar is a ridiculous and meaningless film ...</td>\n",
       "      <td>Spanish</td>\n",
       "    </tr>\n",
       "    <tr>\n",
       "      <th>2</th>\n",
       "      <td>Amélie</td>\n",
       "      <td>2001</td>\n",
       "      <td>This romantic comedy tells the story of Amélie...</td>\n",
       "      <td>\"Amélie is an absolutely charming film that wi...</td>\n",
       "      <td>French</td>\n",
       "    </tr>\n",
       "    <tr>\n",
       "      <th>3</th>\n",
       "      <td>The Godfather</td>\n",
       "      <td>1972</td>\n",
       "      <td>Don Vito Corleone (Marlon Brando) is the head ...</td>\n",
       "      <td>\"The Godfather is a classic movie that stands ...</td>\n",
       "      <td>English</td>\n",
       "    </tr>\n",
       "    <tr>\n",
       "      <th>7</th>\n",
       "      <td>Astérix aux Jeux Olympiques</td>\n",
       "      <td>2008</td>\n",
       "      <td>In this film adaptation of the popular comic s...</td>\n",
       "      <td>\"This film is a complete disappointment. The j...</td>\n",
       "      <td>French</td>\n",
       "    </tr>\n",
       "    <tr>\n",
       "      <th>5</th>\n",
       "      <td>Blade Runner 2049</td>\n",
       "      <td>2017</td>\n",
       "      <td>Officer K (Ryan Gosling), a new blade runner f...</td>\n",
       "      <td>\"Boring and too long. Nothing like the origina...</td>\n",
       "      <td>English</td>\n",
       "    </tr>\n",
       "    <tr>\n",
       "      <th>4</th>\n",
       "      <td>Inception</td>\n",
       "      <td>2010</td>\n",
       "      <td>Dom Cobb (Leonardo DiCaprio) is a skilled thie...</td>\n",
       "      <td>\"Inception is a mind-bending and visually stun...</td>\n",
       "      <td>English</td>\n",
       "    </tr>\n",
       "    <tr>\n",
       "      <th>9</th>\n",
       "      <td>El Incidente</td>\n",
       "      <td>2014</td>\n",
       "      <td>In this Mexican horror film, a group of people...</td>\n",
       "      <td>\"The Incident is a boring and frightless film ...</td>\n",
       "      <td>Spanish</td>\n",
       "    </tr>\n",
       "  </tbody>\n",
       "</table>\n",
       "</div>"
      ],
      "text/plain": [
       "                         Title  Year  \\\n",
       "3       El Laberinto del Fauno  2006   \n",
       "0                   La La Land  2016   \n",
       "2                 Forrest Gump  1994   \n",
       "7                       El Bar  2017   \n",
       "2                       Amélie  2001   \n",
       "3               The Godfather   1972   \n",
       "7  Astérix aux Jeux Olympiques  2008   \n",
       "5            Blade Runner 2049  2017   \n",
       "4                    Inception  2010   \n",
       "9                 El Incidente  2014   \n",
       "\n",
       "                                            Synopsis  \\\n",
       "3  During the Spanish postwar period, Ofelia (Iva...   \n",
       "0  This musical tells the story of a budding actr...   \n",
       "2  Forrest Gump (Tom Hanks) is a simple man with ...   \n",
       "7  A group of people are trapped in a bar after M...   \n",
       "2  This romantic comedy tells the story of Amélie...   \n",
       "3  Don Vito Corleone (Marlon Brando) is the head ...   \n",
       "7  In this film adaptation of the popular comic s...   \n",
       "5  Officer K (Ryan Gosling), a new blade runner f...   \n",
       "4  Dom Cobb (Leonardo DiCaprio) is a skilled thie...   \n",
       "9  In this Mexican horror film, a group of people...   \n",
       "\n",
       "                                              Review Original Language  \n",
       "3  \"The Labyrinth of Fauno is a fascinating and e...           Spanish  \n",
       "0  \"The Land is an absolutely beautiful film with...            French  \n",
       "2  \"Forrest Gump is a heartwarming and inspiratio...           English  \n",
       "7  \"The Bar is a ridiculous and meaningless film ...           Spanish  \n",
       "2  \"Amélie is an absolutely charming film that wi...            French  \n",
       "3  \"The Godfather is a classic movie that stands ...           English  \n",
       "7  \"This film is a complete disappointment. The j...            French  \n",
       "5  \"Boring and too long. Nothing like the origina...           English  \n",
       "4  \"Inception is a mind-bending and visually stun...           English  \n",
       "9  \"The Incident is a boring and frightless film ...           Spanish  "
      ]
     },
     "execution_count": 9,
     "metadata": {},
     "output_type": "execute_result"
    }
   ],
   "source": [
    "df.sample(10)"
   ]
  },
  {
   "cell_type": "markdown",
   "metadata": {
    "collapsed": false
   },
   "source": [
    "### Sentiment Analysis\n",
    "\n",
    "Use HuggingFace pretrained model for sentiment analysis of the reviews. Store the sentiment result **Positive** or **Negative** in a new column titled **Sentiment** in the dataframe."
   ]
  },
  {
   "cell_type": "code",
   "execution_count": 10,
   "metadata": {
    "collapsed": false
   },
   "outputs": [
    {
     "name": "stderr",
     "output_type": "stream",
     "text": [
      "emoji is not installed, thus not converting emoticons or emojis into text. Install emoji: pip3 install emoji==0.6.0\n"
     ]
    }
   ],
   "source": [
    "# load sentiment analysis model\n",
    "\n",
    "model_name = 'finiteautomata/bertweet-base-sentiment-analysis'\n",
    "sentiment_classifier = pipeline(model=model_name)\n",
    "\n",
    "def analyze_sentiment(text, classifier):\n",
    "    \"\"\"\n",
    "    function to perform sentiment analysis on a text using a model\n",
    "    \"\"\"\n",
    "    decoder = {\n",
    "        'POS': 'Positive',\n",
    "        'NEG': 'Negative',\n",
    "    }\n",
    "\n",
    "    list_sentiment = classifier([str(text)])\n",
    "\n",
    "\n",
    "    return decoder[list_sentiment[0]['label']]"
   ]
  },
  {
   "cell_type": "code",
   "execution_count": 11,
   "metadata": {},
   "outputs": [
    {
     "data": {
      "text/plain": [
       "'Negative'"
      ]
     },
     "execution_count": 11,
     "metadata": {},
     "output_type": "execute_result"
    }
   ],
   "source": [
    "analyze_sentiment(\"I'm down bad\", sentiment_classifier)"
   ]
  },
  {
   "cell_type": "code",
   "execution_count": 15,
   "metadata": {
    "collapsed": false
   },
   "outputs": [],
   "source": [
    "# TODO 7: Add code below for sentiment analysis\n",
    "# perform sentiment analysis on reviews and store results in new column\n",
    "# df.assign(Sentiment=lambda x: analyze_sentiment(df['Review'], sentiment_classifier))\n",
    "df = df.assign(Sentiment=df['Review'].apply(lambda x: analyze_sentiment(x, sentiment_classifier)))\n",
    "\n"
   ]
  },
  {
   "cell_type": "code",
   "execution_count": 16,
   "metadata": {
    "collapsed": false
   },
   "outputs": [
    {
     "data": {
      "text/html": [
       "<div>\n",
       "<style scoped>\n",
       "    .dataframe tbody tr th:only-of-type {\n",
       "        vertical-align: middle;\n",
       "    }\n",
       "\n",
       "    .dataframe tbody tr th {\n",
       "        vertical-align: top;\n",
       "    }\n",
       "\n",
       "    .dataframe thead th {\n",
       "        text-align: right;\n",
       "    }\n",
       "</style>\n",
       "<table border=\"1\" class=\"dataframe\">\n",
       "  <thead>\n",
       "    <tr style=\"text-align: right;\">\n",
       "      <th></th>\n",
       "      <th>Title</th>\n",
       "      <th>Year</th>\n",
       "      <th>Synopsis</th>\n",
       "      <th>Review</th>\n",
       "      <th>Original Language</th>\n",
       "      <th>Sentiment</th>\n",
       "    </tr>\n",
       "  </thead>\n",
       "  <tbody>\n",
       "    <tr>\n",
       "      <th>3</th>\n",
       "      <td>The Godfather</td>\n",
       "      <td>1972</td>\n",
       "      <td>Don Vito Corleone (Marlon Brando) is the head ...</td>\n",
       "      <td>\"The Godfather is a classic movie that stands ...</td>\n",
       "      <td>English</td>\n",
       "      <td>Positive</td>\n",
       "    </tr>\n",
       "    <tr>\n",
       "      <th>5</th>\n",
       "      <td>Blade Runner 2049</td>\n",
       "      <td>2017</td>\n",
       "      <td>Officer K (Ryan Gosling), a new blade runner f...</td>\n",
       "      <td>\"Boring and too long. Nothing like the origina...</td>\n",
       "      <td>English</td>\n",
       "      <td>Negative</td>\n",
       "    </tr>\n",
       "    <tr>\n",
       "      <th>9</th>\n",
       "      <td>The Island</td>\n",
       "      <td>2005</td>\n",
       "      <td>In a future where people are cloned for organ ...</td>\n",
       "      <td>\"The Island is a bland and forgettable sci-fi ...</td>\n",
       "      <td>English</td>\n",
       "      <td>Negative</td>\n",
       "    </tr>\n",
       "    <tr>\n",
       "      <th>2</th>\n",
       "      <td>Forrest Gump</td>\n",
       "      <td>1994</td>\n",
       "      <td>Forrest Gump (Tom Hanks) is a simple man with ...</td>\n",
       "      <td>\"Forrest Gump is a heartwarming and inspiratio...</td>\n",
       "      <td>English</td>\n",
       "      <td>Positive</td>\n",
       "    </tr>\n",
       "    <tr>\n",
       "      <th>7</th>\n",
       "      <td>The Nice Guys</td>\n",
       "      <td>2016</td>\n",
       "      <td>In 1970s Los Angeles, a private eye (Ryan Gosl...</td>\n",
       "      <td>\"The Nice Guys tries too hard to be funny, and...</td>\n",
       "      <td>English</td>\n",
       "      <td>Negative</td>\n",
       "    </tr>\n",
       "    <tr>\n",
       "      <th>8</th>\n",
       "      <td>Torrente: El brazo tonto de la ley</td>\n",
       "      <td>1998</td>\n",
       "      <td>In this Spanish comedy, a corrupt cop (played ...</td>\n",
       "      <td>\"Torrente is a vulgar and offensive film that ...</td>\n",
       "      <td>Spanish</td>\n",
       "      <td>Negative</td>\n",
       "    </tr>\n",
       "    <tr>\n",
       "      <th>4</th>\n",
       "      <td>Amores perros</td>\n",
       "      <td>2000</td>\n",
       "      <td>Three stories intertwine in this Mexican film:...</td>\n",
       "      <td>\"Amores dogs is an intense and moving film tha...</td>\n",
       "      <td>Spanish</td>\n",
       "      <td>Positive</td>\n",
       "    </tr>\n",
       "    <tr>\n",
       "      <th>6</th>\n",
       "      <td>La Tour Montparnasse Infernale</td>\n",
       "      <td>2001</td>\n",
       "      <td>Two incompetent office workers find themselves...</td>\n",
       "      <td>\"I can't believe I've wasted time watching thi...</td>\n",
       "      <td>French</td>\n",
       "      <td>Negative</td>\n",
       "    </tr>\n",
       "    <tr>\n",
       "      <th>2</th>\n",
       "      <td>Amélie</td>\n",
       "      <td>2001</td>\n",
       "      <td>This romantic comedy tells the story of Amélie...</td>\n",
       "      <td>\"Amélie is an absolutely charming film that wi...</td>\n",
       "      <td>French</td>\n",
       "      <td>Positive</td>\n",
       "    </tr>\n",
       "    <tr>\n",
       "      <th>0</th>\n",
       "      <td>La La Land</td>\n",
       "      <td>2016</td>\n",
       "      <td>This musical tells the story of a budding actr...</td>\n",
       "      <td>\"The Land is an absolutely beautiful film with...</td>\n",
       "      <td>French</td>\n",
       "      <td>Positive</td>\n",
       "    </tr>\n",
       "  </tbody>\n",
       "</table>\n",
       "</div>"
      ],
      "text/plain": [
       "                                Title  Year  \\\n",
       "3                      The Godfather   1972   \n",
       "5                   Blade Runner 2049  2017   \n",
       "9                          The Island  2005   \n",
       "2                        Forrest Gump  1994   \n",
       "7                       The Nice Guys  2016   \n",
       "8  Torrente: El brazo tonto de la ley  1998   \n",
       "4                       Amores perros  2000   \n",
       "6      La Tour Montparnasse Infernale  2001   \n",
       "2                              Amélie  2001   \n",
       "0                          La La Land  2016   \n",
       "\n",
       "                                            Synopsis  \\\n",
       "3  Don Vito Corleone (Marlon Brando) is the head ...   \n",
       "5  Officer K (Ryan Gosling), a new blade runner f...   \n",
       "9  In a future where people are cloned for organ ...   \n",
       "2  Forrest Gump (Tom Hanks) is a simple man with ...   \n",
       "7  In 1970s Los Angeles, a private eye (Ryan Gosl...   \n",
       "8  In this Spanish comedy, a corrupt cop (played ...   \n",
       "4  Three stories intertwine in this Mexican film:...   \n",
       "6  Two incompetent office workers find themselves...   \n",
       "2  This romantic comedy tells the story of Amélie...   \n",
       "0  This musical tells the story of a budding actr...   \n",
       "\n",
       "                                              Review Original Language  \\\n",
       "3  \"The Godfather is a classic movie that stands ...           English   \n",
       "5  \"Boring and too long. Nothing like the origina...           English   \n",
       "9  \"The Island is a bland and forgettable sci-fi ...           English   \n",
       "2  \"Forrest Gump is a heartwarming and inspiratio...           English   \n",
       "7  \"The Nice Guys tries too hard to be funny, and...           English   \n",
       "8  \"Torrente is a vulgar and offensive film that ...           Spanish   \n",
       "4  \"Amores dogs is an intense and moving film tha...           Spanish   \n",
       "6  \"I can't believe I've wasted time watching thi...            French   \n",
       "2  \"Amélie is an absolutely charming film that wi...            French   \n",
       "0  \"The Land is an absolutely beautiful film with...            French   \n",
       "\n",
       "  Sentiment  \n",
       "3  Positive  \n",
       "5  Negative  \n",
       "9  Negative  \n",
       "2  Positive  \n",
       "7  Negative  \n",
       "8  Negative  \n",
       "4  Positive  \n",
       "6  Negative  \n",
       "2  Positive  \n",
       "0  Positive  "
      ]
     },
     "execution_count": 16,
     "metadata": {},
     "output_type": "execute_result"
    }
   ],
   "source": [
    "df.sample(10)"
   ]
  },
  {
   "cell_type": "code",
   "execution_count": 17,
   "metadata": {
    "collapsed": false
   },
   "outputs": [],
   "source": [
    "# export the results to a .csv file\n",
    "df.to_csv(\"result/reviews_with_sentiment.csv\", index=False)"
   ]
  },
  {
   "cell_type": "code",
   "execution_count": null,
   "metadata": {},
   "outputs": [],
   "source": []
  }
 ],
 "metadata": {
  "kernelspec": {
   "display_name": "Python 3",
   "language": "python",
   "name": "python3"
  },
  "language_info": {
   "codemirror_mode": {
    "name": "ipython",
    "version": 3
   },
   "file_extension": ".py",
   "mimetype": "text/x-python",
   "name": "python",
   "nbconvert_exporter": "python",
   "pygments_lexer": "ipython3",
   "version": "3.8.18"
  }
 },
 "nbformat": 4,
 "nbformat_minor": 0
}
